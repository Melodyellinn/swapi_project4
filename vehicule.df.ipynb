{
 "cells": [
  {
   "cell_type": "code",
   "execution_count": 1,
   "id": "a0879df5",
   "metadata": {},
   "outputs": [],
   "source": [
    "import requests\n",
    "import pandas as pd"
   ]
  },
  {
   "cell_type": "code",
   "execution_count": 2,
   "id": "acf4e389",
   "metadata": {},
   "outputs": [],
   "source": [
    "#import json\n",
    "uri = \"https://swapi.dev/api/vehicles/\""
   ]
  },
  {
   "cell_type": "code",
   "execution_count": 5,
   "id": "625e32e4",
   "metadata": {},
   "outputs": [],
   "source": [
    "def fetch_vehicles(n_vehicles):\n",
    "    uri = 'https://swapi.dev/api/vehicles/'\n",
    "    url = f'{uri}/{str(n_vehicles)}'\n",
    "    r = requests.get(url)\n",
    "    data = r.json()\n",
    "    return data\n",
    "#response = requests.get(\"https://swapi.dev/api/vehicles/\")\n",
    "#datap=response.json()\n",
    "#datap"
   ]
  },
  {
   "cell_type": "code",
   "execution_count": 9,
   "id": "eef59665",
   "metadata": {},
   "outputs": [],
   "source": [
    "def datasetvehicles(vehicles_list, vehicles_df, n_vehicles):\n",
    "    vehicles_df.loc[n_vehicles,'name'] = vehicles_list['name']\n",
    "    vehicles_df.loc[n_vehicles,'model'] = vehicles_list['model']\n",
    "    vehicles_df.loc[n_vehicles,'manufacturer'] = vehicles_list['manufacturer']\n",
    "    vehicles_df.loc[n_vehicles,'cost_in_credits'] = vehicles_list['cost_in_credits']\n",
    "    vehicles_df.loc[n_vehicles,'length'] = vehicles_list['length']\n",
    "    vehicles_df.loc[n_vehicles,'max_atmosphering_speed'] = vehicles_list['max_atmosphering_speed']\n",
    "    vehicles_df.loc[n_vehicles,'crew'] = vehicles_list['crew']\n",
    "    vehicles_df.loc[n_vehicles,'passengers'] = vehicles_list['passengers']\n",
    "    vehicles_df.loc[n_vehicles,'cargo_capacity'] = vehicles_list['cargo_capacity']\n",
    "    vehicles_df.loc[n_vehicles,'consumables'] = vehicles_list['consumables']\n",
    "    vehicles_df.loc[n_vehicles,'vehicle_class'] = vehicles_list['vehicle_class']\n",
    "    return vehicles_df\n",
    "#vehicles = pd.DataFrame(datap)\n",
    "#vehicles"
   ]
  },
  {
   "cell_type": "code",
   "execution_count": 10,
   "id": "7c1a6393",
   "metadata": {},
   "outputs": [
    {
     "ename": "NameError",
     "evalue": "name 'pd' is not defined",
     "output_type": "error",
     "traceback": [
      "\u001b[1;31m---------------------------------------------------------------------------\u001b[0m",
      "\u001b[1;31mNameError\u001b[0m                                 Traceback (most recent call last)",
      "\u001b[1;32m<ipython-input-10-4e3a9154891f>\u001b[0m in \u001b[0;36m<module>\u001b[1;34m\u001b[0m\n\u001b[0;32m      1\u001b[0m \u001b[0mcolumns\u001b[0m \u001b[1;33m=\u001b[0m \u001b[1;33m[\u001b[0m\u001b[1;34m'name'\u001b[0m\u001b[1;33m,\u001b[0m \u001b[1;34m'model'\u001b[0m\u001b[1;33m,\u001b[0m \u001b[1;34m'manufacturer'\u001b[0m\u001b[1;33m,\u001b[0m \u001b[1;34m'cost_in_credits'\u001b[0m\u001b[1;33m,\u001b[0m \u001b[1;34m'length'\u001b[0m\u001b[1;33m,\u001b[0m \u001b[1;34m'max_atmosphering_speed'\u001b[0m\u001b[1;33m,\u001b[0m \u001b[1;34m'crew'\u001b[0m\u001b[1;33m,\u001b[0m \u001b[1;34m'passengers'\u001b[0m\u001b[1;33m,\u001b[0m \u001b[1;34m'cargo_capacity'\u001b[0m\u001b[1;33m,\u001b[0m \u001b[1;34m'consumables'\u001b[0m\u001b[1;33m,\u001b[0m \u001b[1;34m'vehicles_class'\u001b[0m\u001b[1;33m]\u001b[0m\u001b[1;33m\u001b[0m\u001b[1;33m\u001b[0m\u001b[0m\n\u001b[1;32m----> 2\u001b[1;33m \u001b[0mvehicles_df\u001b[0m \u001b[1;33m=\u001b[0m \u001b[0mpd\u001b[0m\u001b[1;33m.\u001b[0m\u001b[0mDataFrame\u001b[0m\u001b[1;33m(\u001b[0m\u001b[0mcolumns\u001b[0m\u001b[1;33m=\u001b[0m\u001b[0mcolumns\u001b[0m\u001b[1;33m)\u001b[0m\u001b[1;33m\u001b[0m\u001b[1;33m\u001b[0m\u001b[0m\n\u001b[0m\u001b[0;32m      3\u001b[0m \u001b[1;33m\u001b[0m\u001b[0m\n\u001b[0;32m      4\u001b[0m \u001b[0mn\u001b[0m \u001b[1;33m=\u001b[0m \u001b[1;36m39\u001b[0m\u001b[1;33m\u001b[0m\u001b[1;33m\u001b[0m\u001b[0m\n\u001b[0;32m      5\u001b[0m \u001b[1;33m\u001b[0m\u001b[0m\n",
      "\u001b[1;31mNameError\u001b[0m: name 'pd' is not defined"
     ]
    }
   ],
   "source": [
    "columns = ['name', 'model', 'manufacturer', 'cost_in_credits', 'length', 'max_atmosphering_speed', 'crew', 'passengers', 'cargo_capacity', 'consumables', 'vehicles_class']\n",
    "vehicles_df = pd.DataFrame(columns=columns)\n",
    "\n",
    "n = 39\n",
    "\n",
    "for i in range (1,n+1):\n",
    "    vehicles_lists = fetch_vehicles(i)\n",
    "    vehicles_df = datasetvehicles(vehicles_list, vehicles_df,i)\n",
    "planet_df\n",
    "#vehicles_2 = vehicles.drop([\"next\", \"previous\", \"count\"], axis=1)"
   ]
  },
  {
   "cell_type": "code",
   "execution_count": 6,
   "id": "6dbc44ec",
   "metadata": {},
   "outputs": [
    {
     "data": {
      "text/html": [
       "<div>\n",
       "<style scoped>\n",
       "    .dataframe tbody tr th:only-of-type {\n",
       "        vertical-align: middle;\n",
       "    }\n",
       "\n",
       "    .dataframe tbody tr th {\n",
       "        vertical-align: top;\n",
       "    }\n",
       "\n",
       "    .dataframe thead th {\n",
       "        text-align: right;\n",
       "    }\n",
       "</style>\n",
       "<table border=\"1\" class=\"dataframe\">\n",
       "  <thead>\n",
       "    <tr style=\"text-align: right;\">\n",
       "      <th></th>\n",
       "      <th>results</th>\n",
       "    </tr>\n",
       "  </thead>\n",
       "  <tbody>\n",
       "    <tr>\n",
       "      <th>0</th>\n",
       "      <td>{'name': 'Sand Crawler', 'model': 'Digger Craw...</td>\n",
       "    </tr>\n",
       "    <tr>\n",
       "      <th>1</th>\n",
       "      <td>{'name': 'T-16 skyhopper', 'model': 'T-16 skyh...</td>\n",
       "    </tr>\n",
       "    <tr>\n",
       "      <th>2</th>\n",
       "      <td>{'name': 'X-34 landspeeder', 'model': 'X-34 la...</td>\n",
       "    </tr>\n",
       "    <tr>\n",
       "      <th>3</th>\n",
       "      <td>{'name': 'TIE/LN starfighter', 'model': 'Twin ...</td>\n",
       "    </tr>\n",
       "    <tr>\n",
       "      <th>4</th>\n",
       "      <td>{'name': 'Snowspeeder', 'model': 't-47 airspee...</td>\n",
       "    </tr>\n",
       "    <tr>\n",
       "      <th>5</th>\n",
       "      <td>{'name': 'TIE bomber', 'model': 'TIE/sa bomber...</td>\n",
       "    </tr>\n",
       "    <tr>\n",
       "      <th>6</th>\n",
       "      <td>{'name': 'AT-AT', 'model': 'All Terrain Armore...</td>\n",
       "    </tr>\n",
       "    <tr>\n",
       "      <th>7</th>\n",
       "      <td>{'name': 'AT-ST', 'model': 'All Terrain Scout ...</td>\n",
       "    </tr>\n",
       "    <tr>\n",
       "      <th>8</th>\n",
       "      <td>{'name': 'Storm IV Twin-Pod cloud car', 'model...</td>\n",
       "    </tr>\n",
       "    <tr>\n",
       "      <th>9</th>\n",
       "      <td>{'name': 'Sail barge', 'model': 'Modified Luxu...</td>\n",
       "    </tr>\n",
       "  </tbody>\n",
       "</table>\n",
       "</div>"
      ],
      "text/plain": [
       "                                             results\n",
       "0  {'name': 'Sand Crawler', 'model': 'Digger Craw...\n",
       "1  {'name': 'T-16 skyhopper', 'model': 'T-16 skyh...\n",
       "2  {'name': 'X-34 landspeeder', 'model': 'X-34 la...\n",
       "3  {'name': 'TIE/LN starfighter', 'model': 'Twin ...\n",
       "4  {'name': 'Snowspeeder', 'model': 't-47 airspee...\n",
       "5  {'name': 'TIE bomber', 'model': 'TIE/sa bomber...\n",
       "6  {'name': 'AT-AT', 'model': 'All Terrain Armore...\n",
       "7  {'name': 'AT-ST', 'model': 'All Terrain Scout ...\n",
       "8  {'name': 'Storm IV Twin-Pod cloud car', 'model...\n",
       "9  {'name': 'Sail barge', 'model': 'Modified Luxu..."
      ]
     },
     "execution_count": 6,
     "metadata": {},
     "output_type": "execute_result"
    }
   ],
   "source": [
    "vehicles_2"
   ]
  },
  {
   "cell_type": "code",
   "execution_count": null,
   "id": "8f028279",
   "metadata": {},
   "outputs": [],
   "source": []
  }
 ],
 "metadata": {
  "kernelspec": {
   "display_name": "Python 3",
   "language": "python",
   "name": "python3"
  },
  "language_info": {
   "codemirror_mode": {
    "name": "ipython",
    "version": 3
   },
   "file_extension": ".py",
   "mimetype": "text/x-python",
   "name": "python",
   "nbconvert_exporter": "python",
   "pygments_lexer": "ipython3",
   "version": "3.8.8"
  }
 },
 "nbformat": 4,
 "nbformat_minor": 5
}
